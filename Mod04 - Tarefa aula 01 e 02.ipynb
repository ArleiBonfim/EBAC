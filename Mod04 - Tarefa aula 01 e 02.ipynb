{
 "cells": [
  {
   "cell_type": "markdown",
   "metadata": {},
   "source": [
    "# Tarefa 01\n",
    "\n",
    "- Leia os enunciados com atenção\n",
    "- Saiba que pode haver mais de uma resposta correta\n",
    "- Insira novas células de código sempre que achar necessário\n",
    "- Em caso de dúvidas, procure os tutores\n",
    "- Divirta-se :)\n",
    "\n",
    "#### 1)  crie uma série do pandas a partir de uma lista com os dados abaixo:\n",
    "\n",
    "Em um estudo sobre alteração na tempreatura global, A NASA disponibiliza dados de diferenças de de temperatura média da superfície terrestre relativos às médias de temperatura entre 1951 e 1980. Os dados originais podem ser vistos no site da NASA/GISS, e estão dispostos a cada década na tabela abaixo.\n",
    "\n",
    "|ano|anomalia termica|\n",
    "|:-:|:----:|\n",
    "| 1900 | -0.08 |\n",
    "| 1920 | -0.27 |\n",
    "| 1940 | 0.12 |\n",
    "| 1960 | -0.03 |\n",
    "| 1980 | 0.26 |\n",
    "| 2000 | 0.40 |\n",
    "| 2020 | 1.02 |\n",
    "\n",
    "Crie uma séries do Pandas a partir de uma lista com esses dados."
   ]
  },
  {
   "cell_type": "code",
   "execution_count": 2,
   "metadata": {},
   "outputs": [
    {
     "name": "stdout",
     "output_type": "stream",
     "text": [
      "1900   -0.08\n",
      "1920   -0.27\n",
      "1940    0.12\n",
      "1960   -0.03\n",
      "1980    0.26\n",
      "2000    0.40\n",
      "2020    1.02\n",
      "dtype: float64\n"
     ]
    }
   ],
   "source": [
    "import pandas as pd\n",
    "import numpy as np\n",
    "\n",
    "# Seu código aqui\n",
    "anomalia_termica = [-0.08, -0.27, 0.12, -0.03, 0.26, 0.40, 1.02]\n",
    "anos = [1900, 1920, 1940, 1960, 1980, 2000, 2020]\n",
    "\n",
    "serie = pd.Series(anomalia_termica, index=anos)\n",
    "print(serie)\n"
   ]
  },
  {
   "cell_type": "markdown",
   "metadata": {},
   "source": [
    "#### 2) Coloque os anos nos índices conforme a tabela."
   ]
  },
  {
   "cell_type": "code",
   "execution_count": null,
   "metadata": {},
   "outputs": [],
   "source": [
    "\n",
    "# seu código aqui\n"
   ]
  },
  {
   "cell_type": "markdown",
   "metadata": {},
   "source": [
    "Fiquei na dúvida, seria o que fiz no exercício anterior? indexar o ano como índice? (index)"
   ]
  },
  {
   "cell_type": "markdown",
   "metadata": {},
   "source": [
    "#### 3) A partir do dicionário abaixo, crie uma séries do Pandas:"
   ]
  },
  {
   "cell_type": "code",
   "execution_count": 5,
   "metadata": {},
   "outputs": [
    {
     "name": "stdout",
     "output_type": "stream",
     "text": [
      "1900   -0.08\n",
      "1920   -0.27\n",
      "1940    0.12\n",
      "1960   -0.03\n",
      "1980    0.26\n",
      "2000    0.40\n",
      "2020    1.02\n",
      "dtype: float64\n"
     ]
    }
   ],
   "source": [
    "dic_temperaturas = {1900: -.08, 1920: -.27, 1940: .12, 1960: -.03, 1980: .26, 2000: .40, 2020: 1.02}\n",
    "\n",
    "# seu código aqui\n",
    "serie = pd.Series(dic_temperaturas)\n",
    "print(serie)\n"
   ]
  },
  {
   "cell_type": "markdown",
   "metadata": {},
   "source": [
    "#### 4) Transforme o ndarray abaixo em um dataframe. \n",
    "O numpy é capaz de gerar arrays n-dimensionais com números pseudo-aleatórios de acordo com uma variedade de distribuições, como no exemplo abaixo. Transforme esse nd-array em um DataFrame."
   ]
  },
  {
   "cell_type": "code",
   "execution_count": 14,
   "metadata": {},
   "outputs": [
    {
     "name": "stdout",
     "output_type": "stream",
     "text": [
      "             0           1           2\n",
      "0    94.082798  106.306860  110.454937\n",
      "1   103.442564  102.953254  102.618101\n",
      "2    90.452406   88.863664   99.714637\n",
      "3   110.109482  118.477507   96.512277\n",
      "4   110.649588  109.230357  112.237674\n",
      "5   106.069730  109.434833  113.110986\n",
      "6    94.853159   87.618869  116.051636\n",
      "7    98.676353  109.692585  103.726792\n",
      "8   106.731302  107.544978   94.099219\n",
      "9   101.350226   85.454247   86.914578\n",
      "10  115.612395   90.896221   94.440314\n",
      "11  102.661153  112.524146   84.176562\n",
      "12  124.126489  109.143629   93.759368\n",
      "13   93.118096  112.009098   77.017025\n",
      "14  101.602121   96.949802  112.147057\n",
      "15  113.918506   99.476577  109.074782\n",
      "16   85.864438  108.892799   91.999048\n",
      "17  109.589726  112.531049  104.115839\n",
      "18   90.131857   97.848870   98.069748\n",
      "19   99.101925  113.368939   96.364539\n"
     ]
    }
   ],
   "source": [
    "arr = np.random.normal(100, 10, (20,3))\n",
    "\n",
    "# seu código aqui\n",
    "df = pd.DataFrame(arr)\n",
    "print(df)\n"
   ]
  },
  {
   "cell_type": "markdown",
   "metadata": {},
   "source": [
    "#### 5) Nomeie os índices das linhas com inteiros de 1 a 20, e as colunas com os nomes \"x1\", \"x2\", e \"x3\" respectivamente."
   ]
  },
  {
   "cell_type": "code",
   "execution_count": 16,
   "metadata": {},
   "outputs": [
    {
     "name": "stdout",
     "output_type": "stream",
     "text": [
      "            x1          x2          x3\n",
      "1    94.082798  106.306860  110.454937\n",
      "2   103.442564  102.953254  102.618101\n",
      "3    90.452406   88.863664   99.714637\n",
      "4   110.109482  118.477507   96.512277\n",
      "5   110.649588  109.230357  112.237674\n",
      "6   106.069730  109.434833  113.110986\n",
      "7    94.853159   87.618869  116.051636\n",
      "8    98.676353  109.692585  103.726792\n",
      "9   106.731302  107.544978   94.099219\n",
      "10  101.350226   85.454247   86.914578\n",
      "11  115.612395   90.896221   94.440314\n",
      "12  102.661153  112.524146   84.176562\n",
      "13  124.126489  109.143629   93.759368\n",
      "14   93.118096  112.009098   77.017025\n",
      "15  101.602121   96.949802  112.147057\n",
      "16  113.918506   99.476577  109.074782\n",
      "17   85.864438  108.892799   91.999048\n",
      "18  109.589726  112.531049  104.115839\n",
      "19   90.131857   97.848870   98.069748\n",
      "20   99.101925  113.368939   96.364539\n"
     ]
    }
   ],
   "source": [
    "#seu código aqui\n",
    "df = df.set_index(np.arange(1, 21))\n",
    "df = df.rename(columns={0: \"x1\", 1: \"x2\", 2: \"x3\"})\n",
    "print(df)\n",
    "\n",
    "\n",
    "\n"
   ]
  },
  {
   "cell_type": "markdown",
   "metadata": {},
   "source": [
    "#### 6) No DataFrame do exercício 5, crie uma nova coluna como sendo a média das três colunas, e dê a ela o nome de \"media\" (não recomendo colocar acentos em nomes de variáveis)."
   ]
  },
  {
   "cell_type": "code",
   "execution_count": 17,
   "metadata": {},
   "outputs": [
    {
     "name": "stdout",
     "output_type": "stream",
     "text": [
      "            x1          x2          x3       media\n",
      "1    94.082798  106.306860  110.454937  103.614865\n",
      "2   103.442564  102.953254  102.618101  103.004640\n",
      "3    90.452406   88.863664   99.714637   93.010236\n",
      "4   110.109482  118.477507   96.512277  108.366422\n",
      "5   110.649588  109.230357  112.237674  110.705873\n",
      "6   106.069730  109.434833  113.110986  109.538516\n",
      "7    94.853159   87.618869  116.051636   99.507888\n",
      "8    98.676353  109.692585  103.726792  104.031910\n",
      "9   106.731302  107.544978   94.099219  102.791833\n",
      "10  101.350226   85.454247   86.914578   91.239684\n",
      "11  115.612395   90.896221   94.440314  100.316310\n",
      "12  102.661153  112.524146   84.176562   99.787287\n",
      "13  124.126489  109.143629   93.759368  109.009829\n",
      "14   93.118096  112.009098   77.017025   94.048073\n",
      "15  101.602121   96.949802  112.147057  103.566326\n",
      "16  113.918506   99.476577  109.074782  107.489955\n",
      "17   85.864438  108.892799   91.999048   95.585429\n",
      "18  109.589726  112.531049  104.115839  108.745538\n",
      "19   90.131857   97.848870   98.069748   95.350158\n",
      "20   99.101925  113.368939   96.364539  102.945134\n"
     ]
    }
   ],
   "source": [
    "# seu código aqui\n",
    "df[\"media\"] = df.mean(axis=1)\n",
    "print(df)"
   ]
  },
  {
   "cell_type": "markdown",
   "metadata": {},
   "source": [
    "#### 7) No DataFrame do exercício 6, crie uma nova coluna chamada \"log_med\", contendo o logaritmo natural da média calculada no exercício 6 <br>"
   ]
  },
  {
   "cell_type": "code",
   "execution_count": 18,
   "metadata": {},
   "outputs": [
    {
     "name": "stdout",
     "output_type": "stream",
     "text": [
      "            x1          x2          x3       media   log_med\n",
      "1    94.082798  106.306860  110.454937  103.614865  4.640681\n",
      "2   103.442564  102.953254  102.618101  103.004640  4.634774\n",
      "3    90.452406   88.863664   99.714637   93.010236  4.532710\n",
      "4   110.109482  118.477507   96.512277  108.366422  4.685518\n",
      "5   110.649588  109.230357  112.237674  110.705873  4.706877\n",
      "6   106.069730  109.434833  113.110986  109.538516  4.696276\n",
      "7    94.853159   87.618869  116.051636   99.507888  4.600237\n",
      "8    98.676353  109.692585  103.726792  104.031910  4.644698\n",
      "9   106.731302  107.544978   94.099219  102.791833  4.632706\n",
      "10  101.350226   85.454247   86.914578   91.239684  4.513490\n",
      "11  115.612395   90.896221   94.440314  100.316310  4.608328\n",
      "12  102.661153  112.524146   84.176562   99.787287  4.603041\n",
      "13  124.126489  109.143629   93.759368  109.009829  4.691438\n",
      "14   93.118096  112.009098   77.017025   94.048073  4.543806\n",
      "15  101.602121   96.949802  112.147057  103.566326  4.640212\n",
      "16  113.918506   99.476577  109.074782  107.489955  4.677397\n",
      "17   85.864438  108.892799   91.999048   95.585429  4.560020\n",
      "18  109.589726  112.531049  104.115839  108.745538  4.689011\n",
      "19   90.131857   97.848870   98.069748   95.350158  4.557556\n",
      "20   99.101925  113.368939   96.364539  102.945134  4.634196\n"
     ]
    }
   ],
   "source": [
    "# seu código aqui\n",
    "df[\"log_med\"] = np.log(df[\"media\"])\n",
    "print(df)"
   ]
  }
 ],
 "metadata": {
  "kernelspec": {
   "display_name": "Python 3 (ipykernel)",
   "language": "python",
   "name": "python3"
  },
  "language_info": {
   "codemirror_mode": {
    "name": "ipython",
    "version": 3
   },
   "file_extension": ".py",
   "mimetype": "text/x-python",
   "name": "python",
   "nbconvert_exporter": "python",
   "pygments_lexer": "ipython3",
   "version": "3.9.13"
  }
 },
 "nbformat": 4,
 "nbformat_minor": 4
}
